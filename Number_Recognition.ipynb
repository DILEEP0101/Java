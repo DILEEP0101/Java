{
  "nbformat": 4,
  "nbformat_minor": 0,
  "metadata": {
    "colab": {
      "provenance": [],
      "authorship_tag": "ABX9TyMvRH1gNce+Eb63RUyj+r3H",
      "include_colab_link": true
    },
    "kernelspec": {
      "name": "python3",
      "display_name": "Python 3"
    },
    "language_info": {
      "name": "python"
    }
  },
  "cells": [
    {
      "cell_type": "markdown",
      "metadata": {
        "id": "view-in-github",
        "colab_type": "text"
      },
      "source": [
        "<a href=\"https://colab.research.google.com/github/DILEEP0101/Java/blob/master/Number_Recognition.ipynb\" target=\"_parent\"><img src=\"https://colab.research.google.com/assets/colab-badge.svg\" alt=\"Open In Colab\"/></a>"
      ]
    },
    {
      "cell_type": "code",
      "execution_count": null,
      "metadata": {
        "id": "iNSOgw-ykF-1"
      },
      "outputs": [],
      "source": [
        "import numpy as np\n",
        "from keras.datasets import mnist\n",
        "from keras.models import Sequential\n",
        "from keras.layers import Dense, Dropout\n",
        "from keras.utils import np_utils"
      ]
    },
    {
      "cell_type": "markdown",
      "source": [],
      "metadata": {
        "id": "lpoUpMmuldvB"
      }
    },
    {
      "cell_type": "code",
      "source": [
        "# Load the MNIST dataset\n",
        "(X_train, y_train), (X_test, y_test) = mnist.load_data()"
      ],
      "metadata": {
        "id": "xu5nCDOOlZCv"
      },
      "execution_count": null,
      "outputs": []
    },
    {
      "cell_type": "code",
      "source": [
        "# Preprocess the data\n",
        "X_train = X_train.reshape(X_train.shape[0], 784).astype('float32')\n",
        "X_test = X_test.reshape(X_test.shape[0], 784).astype('float32')\n",
        "X_train /= 255\n",
        "X_test /= 255"
      ],
      "metadata": {
        "id": "k4YK6XYPlpL0"
      },
      "execution_count": null,
      "outputs": []
    },
    {
      "cell_type": "code",
      "source": [
        "# Convert class labels to one-hot encoded vectors\n",
        "y_train = np_utils.to_categorical(y_train, 10)\n",
        "y_test = np_utils.to_categorical(y_test, 10)"
      ],
      "metadata": {
        "id": "c9RBeD2ml3rF"
      },
      "execution_count": null,
      "outputs": []
    },
    {
      "cell_type": "code",
      "source": [
        "# Define the neural network model\n",
        "model = Sequential()\n",
        "model.add(Dense(512, input_shape=(784,), activation='relu'))\n",
        "model.add(Dropout(0.2))\n",
        "model.add(Dense(512, activation='relu'))\n",
        "model.add(Dropout(0.2))\n",
        "model.add(Dense(10, activation='softmax'))"
      ],
      "metadata": {
        "id": "vEWMnxw2l50t"
      },
      "execution_count": null,
      "outputs": []
    },
    {
      "cell_type": "code",
      "source": [
        "# Compile the model\n",
        "model.compile(loss='categorical_crossentropy', optimizer='adam', metrics=['accuracy'])"
      ],
      "metadata": {
        "id": "2kcx-JAJmATl"
      },
      "execution_count": null,
      "outputs": []
    },
    {
      "cell_type": "code",
      "source": [
        "# Train the model\n",
        "model.fit(X_train, y_train, validation_data=(X_test, y_test), epochs=10, batch_size=128)\n"
      ],
      "metadata": {
        "colab": {
          "base_uri": "https://localhost:8080/"
        },
        "id": "m3xHvtoEmFIG",
        "outputId": "d9dabce0-50cd-40ca-8d84-e9e229152e6a"
      },
      "execution_count": null,
      "outputs": [
        {
          "output_type": "stream",
          "name": "stdout",
          "text": [
            "Epoch 1/10\n",
            "469/469 [==============================] - 18s 36ms/step - loss: 0.2531 - accuracy: 0.9238 - val_loss: 0.1136 - val_accuracy: 0.9655\n",
            "Epoch 2/10\n",
            "469/469 [==============================] - 14s 29ms/step - loss: 0.1018 - accuracy: 0.9683 - val_loss: 0.0887 - val_accuracy: 0.9720\n",
            "Epoch 3/10\n",
            "469/469 [==============================] - 12s 25ms/step - loss: 0.0718 - accuracy: 0.9769 - val_loss: 0.0789 - val_accuracy: 0.9744\n",
            "Epoch 4/10\n",
            "469/469 [==============================] - 10s 21ms/step - loss: 0.0570 - accuracy: 0.9816 - val_loss: 0.0691 - val_accuracy: 0.9797\n",
            "Epoch 5/10\n",
            "469/469 [==============================] - 12s 25ms/step - loss: 0.0448 - accuracy: 0.9854 - val_loss: 0.0703 - val_accuracy: 0.9789\n",
            "Epoch 6/10\n",
            "469/469 [==============================] - 12s 26ms/step - loss: 0.0393 - accuracy: 0.9866 - val_loss: 0.0660 - val_accuracy: 0.9812\n",
            "Epoch 7/10\n",
            "469/469 [==============================] - 13s 28ms/step - loss: 0.0356 - accuracy: 0.9883 - val_loss: 0.0790 - val_accuracy: 0.9793\n",
            "Epoch 8/10\n",
            "469/469 [==============================] - 12s 25ms/step - loss: 0.0308 - accuracy: 0.9898 - val_loss: 0.0689 - val_accuracy: 0.9817\n",
            "Epoch 9/10\n",
            "469/469 [==============================] - 11s 23ms/step - loss: 0.0270 - accuracy: 0.9909 - val_loss: 0.0765 - val_accuracy: 0.9799\n",
            "Epoch 10/10\n",
            "469/469 [==============================] - 12s 25ms/step - loss: 0.0262 - accuracy: 0.9910 - val_loss: 0.0671 - val_accuracy: 0.9821\n"
          ]
        },
        {
          "output_type": "execute_result",
          "data": {
            "text/plain": [
              "<keras.callbacks.History at 0x7efe6c90e920>"
            ]
          },
          "metadata": {},
          "execution_count": 9
        }
      ]
    },
    {
      "cell_type": "code",
      "source": [
        "# Evaluate the model\n",
        "scores = model.evaluate(X_test, y_test, verbose=0)\n",
        "print('Test accuracy:', scores[1])"
      ],
      "metadata": {
        "colab": {
          "base_uri": "https://localhost:8080/"
        },
        "id": "YTAwRHFYmP1C",
        "outputId": "16a0f05b-0a25-4cd1-e01e-8d916f9e98e7"
      },
      "execution_count": null,
      "outputs": [
        {
          "output_type": "stream",
          "name": "stdout",
          "text": [
            "Test accuracy: 0.9821000099182129\n"
          ]
        }
      ]
    },
    {
      "cell_type": "code",
      "source": [
        "(xtrain,ytrain),(xtest,ytest)=mnist.load_data()\n",
        "import matplotlib.pyplot as plt\n",
        "index=777\n",
        "plt.imshow(xtrain[index],cmap='Greys')"
      ],
      "metadata": {
        "colab": {
          "base_uri": "https://localhost:8080/",
          "height": 447
        },
        "id": "VyR1BQ9KsoB_",
        "outputId": "7572bfa0-5cd2-4883-badd-8b4875ea2692"
      },
      "execution_count": null,
      "outputs": [
        {
          "output_type": "execute_result",
          "data": {
            "text/plain": [
              "<matplotlib.image.AxesImage at 0x7efe52f79c90>"
            ]
          },
          "metadata": {},
          "execution_count": 17
        },
        {
          "output_type": "display_data",
          "data": {
            "text/plain": [
              "<Figure size 640x480 with 1 Axes>"
            ],
            "image/png": "[encoded data removed]"
          },
          "metadata": {}
        }
      ]
    }
  ]
}